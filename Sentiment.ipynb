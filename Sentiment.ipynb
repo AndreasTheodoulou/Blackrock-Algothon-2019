{
 "cells": [
  {
   "cell_type": "code",
   "execution_count": 0,
   "metadata": {
    "colab": {},
    "colab_type": "code",
    "id": "irCAKNCSVRRG"
   },
   "outputs": [],
   "source": [
    "# from google.colab import drive\n",
    "# drive.mount('/content/drive')"
   ]
  },
  {
   "cell_type": "code",
   "execution_count": 0,
   "metadata": {
    "colab": {},
    "colab_type": "code",
    "id": "vpgmVyf2xT7B"
   },
   "outputs": [],
   "source": [
    "import quandl\n",
    "import numpy as np\n",
    "import matplotlib.pyplot as plt\n",
    "import pandas as pd"
   ]
  },
  {
   "cell_type": "markdown",
   "metadata": {
    "colab_type": "text",
    "id": "1xiNGotDVgIm"
   },
   "source": [
    "# Read CSV data relating to Facebook sentiment information\n",
    "Features include number of 'likes' for specific posts, number of 'haha's etc. The idea is to find the post with the maximum reactions for each brand ticker and date, and compute the ratio of (number of 'anger' + number of 'sad') reactions to (number of 'like' + number of 'haha' + number of 'love') reactions. If there is a spike to this ratio, then this suggests that the corresopnding stock return may experience a dramatic fall in the near future and, therefore, removing the stock from the portfolio could reduce its exposure. "
   ]
  },
  {
   "cell_type": "code",
   "execution_count": 0,
   "metadata": {
    "colab": {},
    "colab_type": "code",
    "id": "8rHLhSnuOJWr"
   },
   "outputs": [],
   "source": [
    "data=pd.read_csv('SMA-FBP.csv')"
   ]
  },
  {
   "cell_type": "markdown",
   "metadata": {
    "colab_type": "text",
    "id": "94lAGWZWVpC4"
   },
   "source": [
    "# Get S&P 500 Price Data\n"
   ]
  },
  {
   "cell_type": "code",
   "execution_count": 0,
   "metadata": {
    "colab": {},
    "colab_type": "code",
    "id": "wYB9JjK7-LXn"
   },
   "outputs": [],
   "source": [
    "##### Prices for all stocks in S&P 500 #####\n",
    "import bs4 as bs\n",
    "import pickle\n",
    "import requests\n",
    "\n",
    "def save_sp500_tickers():\n",
    "    resp = requests.get('http://en.wikipedia.org/wiki/List_of_S%26P_500_companies')\n",
    "    soup = bs.BeautifulSoup(resp.text, 'lxml')\n",
    "    table = soup.find('table', {'class': 'wikitable sortable'})\n",
    "    tickers = []\n",
    "    for row in table.findAll('tr')[1:]:\n",
    "        ticker = row.findAll('td')[0].text\n",
    "        if not '.' in ticker:\n",
    "          tickers.append(ticker.replace('\\n',''))\n",
    "        \n",
    "    with open(\"sp500tickers.pickle\",\"wb\") as f:\n",
    "        pickle.dump(tickers,f)\n",
    "        \n",
    "    return tickers\n",
    "\n",
    "tickers = save_sp500_tickers()\n",
    "\n",
    "quandl.ApiConfig.api_key = ''\n",
    "df = pd.DataFrame()\n",
    "for ticker in tickers:\n",
    "    df[ticker] = quandl.get('EOD/'+ticker, column_index='11')['Adj_Close']\n",
    "    print(ticker, df.index[-1])"
   ]
  },
  {
   "cell_type": "code",
   "execution_count": 0,
   "metadata": {
    "colab": {},
    "colab_type": "code",
    "id": "bxEJqwGRqs1C"
   },
   "outputs": [],
   "source": [
    "tickers_all=tickers\n",
    "tickers_andreas=pd.read_csv('tickers.csv')\n",
    "tickers_intersection=set(tickers_all).intersection(set(tickers_andreas['Tick'].tolist()))\n",
    "tickers_intersection = list(tickers_intersection)\n",
    "len(tickers_intersection)\n",
    "\n",
    "prices=df\n",
    "prices = prices[tickers_intersection]"
   ]
  },
  {
   "cell_type": "code",
   "execution_count": 0,
   "metadata": {
    "colab": {},
    "colab_type": "code",
    "id": "StiR_08Jre4-"
   },
   "outputs": [],
   "source": [
    "features=data\n",
    "features=features.loc[features['brand_ticker'].isin(np.asarray(tickers_intersection))]"
   ]
  },
  {
   "cell_type": "code",
   "execution_count": 0,
   "metadata": {
    "colab": {},
    "colab_type": "code",
    "id": "gPZ-G6TzKh5I"
   },
   "outputs": [],
   "source": [
    "brand_tickers_set = set(features['brand_ticker'].tolist())"
   ]
  },
  {
   "cell_type": "markdown",
   "metadata": {
    "colab_type": "text",
    "id": "kUtfmsoN6OcN"
   },
   "source": [
    "# Separate the stocks "
   ]
  },
  {
   "cell_type": "code",
   "execution_count": 0,
   "metadata": {
    "colab": {},
    "colab_type": "code",
    "id": "DEULfpKuDJra"
   },
   "outputs": [],
   "source": [
    "data_tensor_list = []\n",
    "for brand_ticker in brand_tickers_set:\n",
    "  data_tensor_list.append(features.loc[features['brand_ticker'] == brand_ticker]) "
   ]
  },
  {
   "cell_type": "code",
   "execution_count": 0,
   "metadata": {
    "colab": {},
    "colab_type": "code",
    "id": "sGl4GPtjxcub"
   },
   "outputs": [],
   "source": [
    "features=data_tensor_list[1] ### focus on MCD due to high data availability "
   ]
  },
  {
   "cell_type": "code",
   "execution_count": 0,
   "metadata": {
    "colab": {},
    "colab_type": "code",
    "id": "-YgSUzKco_8n"
   },
   "outputs": [],
   "source": [
    "### Drop unused features \n",
    "features = features.drop(['type','geography','sector','reactions-wow','comments','sentiment','engagement_score','reach'], 1)\n",
    "features = features.drop(['page_id','post_id','impressions'], 1)\n",
    "features=features.drop(['shares'],1)"
   ]
  },
  {
   "cell_type": "markdown",
   "metadata": {
    "colab_type": "text",
    "id": "Xl1Y78Ux6YrG"
   },
   "source": [
    "# Get the dates"
   ]
  },
  {
   "cell_type": "code",
   "execution_count": 0,
   "metadata": {
    "colab": {},
    "colab_type": "code",
    "id": "MtppNQ4wpuYK"
   },
   "outputs": [],
   "source": [
    "days_list = features['date'].tolist()\n",
    "days_set = sorted(set(days_list), key=lambda x: days_list.index(x))\n",
    "df_days=[]\n",
    "for day in days_set:\n",
    "  df_days.append(features.loc[features['date'] == day])"
   ]
  },
  {
   "cell_type": "markdown",
   "metadata": {
    "colab_type": "text",
    "id": "RgZ-lbPw6g6J"
   },
   "source": [
    "# Get the post with the maximum number of reactions for a given day"
   ]
  },
  {
   "cell_type": "code",
   "execution_count": 0,
   "metadata": {
    "colab": {},
    "colab_type": "code",
    "id": "_Ni8RiRRsAvn"
   },
   "outputs": [],
   "source": [
    "df_days_2 = []\n",
    "for day in df_days:\n",
    "  \n",
    "  tot_reactions = day['total-reactions'].tolist()\n",
    "  max_tot = max(tot_reactions)\n",
    "  df_days_2.append(day.loc[day['total-reactions'] == max_tot])"
   ]
  },
  {
   "cell_type": "markdown",
   "metadata": {
    "colab_type": "text",
    "id": "NlwYwghN6mhr"
   },
   "source": [
    "# Calculate ratio for each date"
   ]
  },
  {
   "cell_type": "code",
   "execution_count": 0,
   "metadata": {
    "colab": {},
    "colab_type": "code",
    "id": "Jxi-XT4PyXiJ"
   },
   "outputs": [],
   "source": [
    "from datetime import datetime\n",
    "import dateutil\n",
    "\n",
    "percentages=[]\n",
    "date = []\n",
    "for day in df_days_2:\n",
    "  percentages.append((day['reactions-sad'].values[0]+day['reactions-angry'].values[0])/(day['reactions-like'].values[0]+day['reactions_love'].values[0]+day['reactions-haha'].values[0]))\n",
    "\n",
    "  datetime_object = dateutil.parser.parse(day['date'].values[0])\n",
    "  date.append(datetime_object)\n"
   ]
  },
  {
   "cell_type": "markdown",
   "metadata": {
    "colab_type": "text",
    "id": "H5mnF6tX6ulX"
   },
   "source": [
    "# Get MCD prices for the dates the ratio was calculated "
   ]
  },
  {
   "cell_type": "code",
   "execution_count": 0,
   "metadata": {
    "colab": {},
    "colab_type": "code",
    "id": "jDCPyVUe3Ln8"
   },
   "outputs": [],
   "source": [
    "returns=prices['MCD']\n",
    "returns = returns[(returns.index > '2016-1-17') & (returns.index <= '2017-7-18')]\n"
   ]
  },
  {
   "cell_type": "markdown",
   "metadata": {
    "colab_type": "text",
    "id": "OGKvcWRT64VH"
   },
   "source": [
    "# Plot the time series "
   ]
  },
  {
   "cell_type": "code",
   "execution_count": 383,
   "metadata": {
    "colab": {
     "base_uri": "https://localhost:8080/",
     "height": 557
    },
    "colab_type": "code",
    "id": "uwxeLS0ZQVYi",
    "outputId": "cf27f900-db55-4e43-9aac-7b2f2fbe10e5"
   },
   "outputs": [
    {
     "name": "stderr",
     "output_type": "stream",
     "text": [
      "/usr/local/lib/python3.6/dist-packages/matplotlib/font_manager.py:1241: UserWarning: findfont: Font family ['normal'] not found. Falling back to DejaVu Sans.\n",
      "  (prop.get_family(), self.defaultFamily[fontext]))\n"
     ]
    },
    {
     "data": {
      "image/png": "[encoded data removed]",
      "text/plain": [
       "<Figure size 720x504 with 2 Axes>"
      ]
     },
     "metadata": {
      "tags": []
     },
     "output_type": "display_data"
    }
   ],
   "source": [
    "from matplotlib import pyplot as plt\n",
    "fig, ax1 = plt.subplots(figsize=(10,7))\n",
    "color = 'green'\n",
    "ax1.set_xlabel('Date')\n",
    "ax1.set_ylabel('MCD Stock price', color=color)\n",
    "ax1.plot(returns,color=color)\n",
    "ax1.tick_params(axis='y', labelcolor=color)\n",
    "\n",
    "\n",
    "ax2 = ax1.twinx()  # instantiate a second axes that shares the same x-axis\n",
    "\n",
    "color = 'tab:red'\n",
    "ax2.set_ylabel('Negative Sentiment', color=color)  # we already handled the x-label with ax1\n",
    "ax2.plot(date[:500],np.asarray(percentages[:500]),color=color)\n",
    "ax2.tick_params(axis='y', labelcolor=color)\n",
    "ax2.set_ylim(0,0.1)\n",
    "plt.rc('xtick', labelsize=5) \n",
    "plt.rc('ytick', labelsize=5)\n",
    "fig.tight_layout()  # otherwise the right y-label is slightly clipped\n",
    "fig1 = plt.gcf()\n",
    "plt.show()\n",
    "fig1.savefig('Price_vs_Sentiment.png')\n"
   ]
  },
  {
   "cell_type": "code",
   "execution_count": 0,
   "metadata": {
    "colab": {},
    "colab_type": "code",
    "id": "vUWjo6Q6MjIB"
   },
   "outputs": [],
   "source": []
  }
 ],
 "metadata": {
  "colab": {
   "collapsed_sections": [],
   "name": "Sentiment.ipynb",
   "provenance": []
  },
  "kernelspec": {
   "display_name": "Python 3",
   "language": "python",
   "name": "python3"
  },
  "language_info": {
   "codemirror_mode": {
    "name": "ipython",
    "version": 3
   },
   "file_extension": ".py",
   "mimetype": "text/x-python",
   "name": "python",
   "nbconvert_exporter": "python",
   "pygments_lexer": "ipython3",
   "version": "3.7.4"
  }
 },
 "nbformat": 4,
 "nbformat_minor": 1
}
